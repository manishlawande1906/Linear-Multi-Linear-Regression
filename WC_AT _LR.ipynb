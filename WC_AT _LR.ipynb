{
 "cells": [
  {
   "cell_type": "code",
   "execution_count": 1,
   "id": "d5e4060c",
   "metadata": {},
   "outputs": [],
   "source": [
    "import pandas as pd\n",
    "import numpy as np\n",
    "import matplotlib.pyplot as plt\n",
    "import seaborn as sns\n",
    "from sklearn.linear_model import LinearRegression\n",
    "from sklearn.metrics import r2_score\n",
    "import statsmodels.formula.api as smf"
   ]
  },
  {
   "cell_type": "code",
   "execution_count": 2,
   "id": "a709f3c6",
   "metadata": {},
   "outputs": [
    {
     "data": {
      "text/html": [
       "<div>\n",
       "<style scoped>\n",
       "    .dataframe tbody tr th:only-of-type {\n",
       "        vertical-align: middle;\n",
       "    }\n",
       "\n",
       "    .dataframe tbody tr th {\n",
       "        vertical-align: top;\n",
       "    }\n",
       "\n",
       "    .dataframe thead th {\n",
       "        text-align: right;\n",
       "    }\n",
       "</style>\n",
       "<table border=\"1\" class=\"dataframe\">\n",
       "  <thead>\n",
       "    <tr style=\"text-align: right;\">\n",
       "      <th></th>\n",
       "      <th>Waist</th>\n",
       "      <th>AT</th>\n",
       "    </tr>\n",
       "  </thead>\n",
       "  <tbody>\n",
       "    <tr>\n",
       "      <th>0</th>\n",
       "      <td>74.75</td>\n",
       "      <td>25.72</td>\n",
       "    </tr>\n",
       "    <tr>\n",
       "      <th>1</th>\n",
       "      <td>72.60</td>\n",
       "      <td>25.89</td>\n",
       "    </tr>\n",
       "    <tr>\n",
       "      <th>2</th>\n",
       "      <td>81.80</td>\n",
       "      <td>42.60</td>\n",
       "    </tr>\n",
       "    <tr>\n",
       "      <th>3</th>\n",
       "      <td>83.95</td>\n",
       "      <td>42.80</td>\n",
       "    </tr>\n",
       "    <tr>\n",
       "      <th>4</th>\n",
       "      <td>74.65</td>\n",
       "      <td>29.84</td>\n",
       "    </tr>\n",
       "    <tr>\n",
       "      <th>...</th>\n",
       "      <td>...</td>\n",
       "      <td>...</td>\n",
       "    </tr>\n",
       "    <tr>\n",
       "      <th>104</th>\n",
       "      <td>100.10</td>\n",
       "      <td>124.00</td>\n",
       "    </tr>\n",
       "    <tr>\n",
       "      <th>105</th>\n",
       "      <td>93.30</td>\n",
       "      <td>62.20</td>\n",
       "    </tr>\n",
       "    <tr>\n",
       "      <th>106</th>\n",
       "      <td>101.80</td>\n",
       "      <td>133.00</td>\n",
       "    </tr>\n",
       "    <tr>\n",
       "      <th>107</th>\n",
       "      <td>107.90</td>\n",
       "      <td>208.00</td>\n",
       "    </tr>\n",
       "    <tr>\n",
       "      <th>108</th>\n",
       "      <td>108.50</td>\n",
       "      <td>208.00</td>\n",
       "    </tr>\n",
       "  </tbody>\n",
       "</table>\n",
       "<p>109 rows × 2 columns</p>\n",
       "</div>"
      ],
      "text/plain": [
       "      Waist      AT\n",
       "0     74.75   25.72\n",
       "1     72.60   25.89\n",
       "2     81.80   42.60\n",
       "3     83.95   42.80\n",
       "4     74.65   29.84\n",
       "..      ...     ...\n",
       "104  100.10  124.00\n",
       "105   93.30   62.20\n",
       "106  101.80  133.00\n",
       "107  107.90  208.00\n",
       "108  108.50  208.00\n",
       "\n",
       "[109 rows x 2 columns]"
      ]
     },
     "execution_count": 2,
     "metadata": {},
     "output_type": "execute_result"
    }
   ],
   "source": [
    "data = pd.read_csv(\"WC_AT.csv\")\n",
    "data"
   ]
  },
  {
   "cell_type": "code",
   "execution_count": 3,
   "id": "d7e610e8",
   "metadata": {},
   "outputs": [
    {
     "data": {
      "text/html": [
       "<div>\n",
       "<style scoped>\n",
       "    .dataframe tbody tr th:only-of-type {\n",
       "        vertical-align: middle;\n",
       "    }\n",
       "\n",
       "    .dataframe tbody tr th {\n",
       "        vertical-align: top;\n",
       "    }\n",
       "\n",
       "    .dataframe thead th {\n",
       "        text-align: right;\n",
       "    }\n",
       "</style>\n",
       "<table border=\"1\" class=\"dataframe\">\n",
       "  <thead>\n",
       "    <tr style=\"text-align: right;\">\n",
       "      <th></th>\n",
       "      <th>Waist</th>\n",
       "      <th>AT</th>\n",
       "    </tr>\n",
       "  </thead>\n",
       "  <tbody>\n",
       "    <tr>\n",
       "      <th>0</th>\n",
       "      <td>74.75</td>\n",
       "      <td>25.72</td>\n",
       "    </tr>\n",
       "    <tr>\n",
       "      <th>1</th>\n",
       "      <td>72.60</td>\n",
       "      <td>25.89</td>\n",
       "    </tr>\n",
       "    <tr>\n",
       "      <th>2</th>\n",
       "      <td>81.80</td>\n",
       "      <td>42.60</td>\n",
       "    </tr>\n",
       "    <tr>\n",
       "      <th>3</th>\n",
       "      <td>83.95</td>\n",
       "      <td>42.80</td>\n",
       "    </tr>\n",
       "    <tr>\n",
       "      <th>4</th>\n",
       "      <td>74.65</td>\n",
       "      <td>29.84</td>\n",
       "    </tr>\n",
       "  </tbody>\n",
       "</table>\n",
       "</div>"
      ],
      "text/plain": [
       "   Waist     AT\n",
       "0  74.75  25.72\n",
       "1  72.60  25.89\n",
       "2  81.80  42.60\n",
       "3  83.95  42.80\n",
       "4  74.65  29.84"
      ]
     },
     "execution_count": 3,
     "metadata": {},
     "output_type": "execute_result"
    }
   ],
   "source": [
    "data.head()"
   ]
  },
  {
   "cell_type": "code",
   "execution_count": 4,
   "id": "f6f53e0c",
   "metadata": {},
   "outputs": [
    {
     "data": {
      "text/plain": [
       "(109, 2)"
      ]
     },
     "execution_count": 4,
     "metadata": {},
     "output_type": "execute_result"
    }
   ],
   "source": [
    "data.shape"
   ]
  },
  {
   "cell_type": "code",
   "execution_count": 5,
   "id": "b9adcc85",
   "metadata": {},
   "outputs": [
    {
     "data": {
      "image/png": "[encoded data removed]",
      "text/plain": [
       "<Figure size 500x300 with 1 Axes>"
      ]
     },
     "metadata": {},
     "output_type": "display_data"
    }
   ],
   "source": [
    "plt.figure(figsize = (5,3), facecolor = 'lightpink')\n",
    "plt.scatter(data['Waist'], data['AT'])\n",
    "plt.xlabel('Waist')\n",
    "plt.ylabel('AT')\n",
    "plt.show()0 0\n"
   ]
  },
  {
   "cell_type": "code",
   "execution_count": 6,
   "id": "80446654",
   "metadata": {},
   "outputs": [
    {
     "data": {
      "text/html": [
       "<div>\n",
       "<style scoped>\n",
       "    .dataframe tbody tr th:only-of-type {\n",
       "        vertical-align: middle;\n",
       "    }\n",
       "\n",
       "    .dataframe tbody tr th {\n",
       "        vertical-align: top;\n",
       "    }\n",
       "\n",
       "    .dataframe thead th {\n",
       "        text-align: right;\n",
       "    }\n",
       "</style>\n",
       "<table border=\"1\" class=\"dataframe\">\n",
       "  <thead>\n",
       "    <tr style=\"text-align: right;\">\n",
       "      <th></th>\n",
       "      <th>Waist</th>\n",
       "      <th>AT</th>\n",
       "    </tr>\n",
       "  </thead>\n",
       "  <tbody>\n",
       "    <tr>\n",
       "      <th>Waist</th>\n",
       "      <td>1.000000</td>\n",
       "      <td>0.818558</td>\n",
       "    </tr>\n",
       "    <tr>\n",
       "      <th>AT</th>\n",
       "      <td>0.818558</td>\n",
       "      <td>1.000000</td>\n",
       "    </tr>\n",
       "  </tbody>\n",
       "</table>\n",
       "</div>"
      ],
      "text/plain": [
       "          Waist        AT\n",
       "Waist  1.000000  0.818558\n",
       "AT     0.818558  1.000000"
      ]
     },
     "execution_count": 6,
     "metadata": {},
     "output_type": "execute_result"
    }
   ],
   "source": [
    "data.corr()"
   ]
  },
  {
   "cell_type": "code",
   "execution_count": 7,
   "id": "c5192e0f",
   "metadata": {},
   "outputs": [
    {
     "name": "stderr",
     "output_type": "stream",
     "text": [
      "C:\\Users\\hp\\anaconda3\\lib\\site-packages\\seaborn\\distributions.py:2619: FutureWarning: `distplot` is a deprecated function and will be removed in a future version. Please adapt your code to use either `displot` (a figure-level function with similar flexibility) or `histplot` (an axes-level function for histograms).\n",
      "  warnings.warn(msg, FutureWarning)\n",
      "C:\\Users\\hp\\anaconda3\\lib\\site-packages\\seaborn\\distributions.py:2619: FutureWarning: `distplot` is a deprecated function and will be removed in a future version. Please adapt your code to use either `displot` (a figure-level function with similar flexibility) or `histplot` (an axes-level function for histograms).\n",
      "  warnings.warn(msg, FutureWarning)\n"
     ]
    },
    {
     "data": {
      "text/plain": [
       "<AxesSubplot:xlabel='AT', ylabel='Density'>"
      ]
     },
     "execution_count": 7,
     "metadata": {},
     "output_type": "execute_result"
    },
    {
     "data": {
      "image/png": "[encoded data removed]",
      "text/plain": [
       "<Figure size 640x480 with 1 Axes>"
      ]
     },
     "metadata": {},
     "output_type": "display_data"
    }
   ],
   "source": [
    "sns.distplot(data['Waist'])\n",
    "sns.distplot(data['AT'])"
   ]
  },
  {
   "cell_type": "markdown",
   "id": "913c7a73",
   "metadata": {},
   "source": [
    "### Creating Model Using Sklearn"
   ]
  },
  {
   "cell_type": "code",
   "execution_count": 8,
   "id": "4803d556",
   "metadata": {},
   "outputs": [],
   "source": [
    "X = data['Waist'].values.reshape(109,1)\n",
    "Y = data['AT'].values.reshape(109,1)"
   ]
  },
  {
   "cell_type": "code",
   "execution_count": 9,
   "id": "caa93511",
   "metadata": {},
   "outputs": [
    {
     "data": {
      "text/plain": [
       "array([[ 74.75],\n",
       "       [ 72.6 ],\n",
       "       [ 81.8 ],\n",
       "       [ 83.95],\n",
       "       [ 74.65],\n",
       "       [ 71.85],\n",
       "       [ 80.9 ],\n",
       "       [ 83.4 ],\n",
       "       [ 63.5 ],\n",
       "       [ 73.2 ],\n",
       "       [ 71.9 ],\n",
       "       [ 75.  ],\n",
       "       [ 73.1 ],\n",
       "       [ 79.  ],\n",
       "       [ 77.  ],\n",
       "       [ 68.85],\n",
       "       [ 75.95],\n",
       "       [ 74.15],\n",
       "       [ 73.8 ],\n",
       "       [ 75.9 ],\n",
       "       [ 76.85],\n",
       "       [ 80.9 ],\n",
       "       [ 79.9 ],\n",
       "       [ 89.2 ],\n",
       "       [ 82.  ],\n",
       "       [ 92.  ],\n",
       "       [ 86.6 ],\n",
       "       [ 80.5 ],\n",
       "       [ 86.  ],\n",
       "       [ 82.5 ],\n",
       "       [ 83.5 ],\n",
       "       [ 88.1 ],\n",
       "       [ 90.8 ],\n",
       "       [ 89.4 ],\n",
       "       [102.  ],\n",
       "       [ 94.5 ],\n",
       "       [ 91.  ],\n",
       "       [103.  ],\n",
       "       [ 80.  ],\n",
       "       [ 79.  ],\n",
       "       [ 83.5 ],\n",
       "       [ 76.  ],\n",
       "       [ 80.5 ],\n",
       "       [ 86.5 ],\n",
       "       [ 83.  ],\n",
       "       [107.1 ],\n",
       "       [ 94.3 ],\n",
       "       [ 94.5 ],\n",
       "       [ 79.7 ],\n",
       "       [ 79.3 ],\n",
       "       [ 89.8 ],\n",
       "       [ 83.8 ],\n",
       "       [ 85.2 ],\n",
       "       [ 75.5 ],\n",
       "       [ 78.4 ],\n",
       "       [ 78.6 ],\n",
       "       [ 87.8 ],\n",
       "       [ 86.3 ],\n",
       "       [ 85.5 ],\n",
       "       [ 83.7 ],\n",
       "       [ 77.6 ],\n",
       "       [ 84.9 ],\n",
       "       [ 79.8 ],\n",
       "       [108.3 ],\n",
       "       [119.6 ],\n",
       "       [119.9 ],\n",
       "       [ 96.5 ],\n",
       "       [105.5 ],\n",
       "       [105.  ],\n",
       "       [107.  ],\n",
       "       [107.  ],\n",
       "       [101.  ],\n",
       "       [ 97.  ],\n",
       "       [100.  ],\n",
       "       [108.  ],\n",
       "       [100.  ],\n",
       "       [103.  ],\n",
       "       [104.  ],\n",
       "       [106.  ],\n",
       "       [109.  ],\n",
       "       [103.5 ],\n",
       "       [110.  ],\n",
       "       [110.  ],\n",
       "       [112.  ],\n",
       "       [108.5 ],\n",
       "       [104.  ],\n",
       "       [111.  ],\n",
       "       [108.5 ],\n",
       "       [121.  ],\n",
       "       [109.  ],\n",
       "       [ 97.5 ],\n",
       "       [105.5 ],\n",
       "       [ 98.  ],\n",
       "       [ 94.5 ],\n",
       "       [ 97.  ],\n",
       "       [105.  ],\n",
       "       [106.  ],\n",
       "       [ 99.  ],\n",
       "       [ 91.  ],\n",
       "       [102.5 ],\n",
       "       [106.  ],\n",
       "       [109.1 ],\n",
       "       [115.  ],\n",
       "       [101.  ],\n",
       "       [100.1 ],\n",
       "       [ 93.3 ],\n",
       "       [101.8 ],\n",
       "       [107.9 ],\n",
       "       [108.5 ]])"
      ]
     },
     "execution_count": 9,
     "metadata": {},
     "output_type": "execute_result"
    }
   ],
   "source": [
    "X"
   ]
  },
  {
   "cell_type": "code",
   "execution_count": 10,
   "id": "52e04df6",
   "metadata": {},
   "outputs": [
    {
     "data": {
      "text/plain": [
       "array([[ 25.72],\n",
       "       [ 25.89],\n",
       "       [ 42.6 ],\n",
       "       [ 42.8 ],\n",
       "       [ 29.84],\n",
       "       [ 21.68],\n",
       "       [ 29.08],\n",
       "       [ 32.98],\n",
       "       [ 11.44],\n",
       "       [ 32.22],\n",
       "       [ 28.32],\n",
       "       [ 43.86],\n",
       "       [ 38.21],\n",
       "       [ 42.48],\n",
       "       [ 30.96],\n",
       "       [ 55.78],\n",
       "       [ 43.78],\n",
       "       [ 33.41],\n",
       "       [ 43.35],\n",
       "       [ 29.31],\n",
       "       [ 36.6 ],\n",
       "       [ 40.25],\n",
       "       [ 35.43],\n",
       "       [ 60.09],\n",
       "       [ 45.84],\n",
       "       [ 70.4 ],\n",
       "       [ 83.45],\n",
       "       [ 84.3 ],\n",
       "       [ 78.89],\n",
       "       [ 64.75],\n",
       "       [ 72.56],\n",
       "       [ 89.31],\n",
       "       [ 78.94],\n",
       "       [ 83.55],\n",
       "       [127.  ],\n",
       "       [121.  ],\n",
       "       [107.  ],\n",
       "       [129.  ],\n",
       "       [ 74.02],\n",
       "       [ 55.48],\n",
       "       [ 73.13],\n",
       "       [ 50.5 ],\n",
       "       [ 50.88],\n",
       "       [140.  ],\n",
       "       [ 96.54],\n",
       "       [118.  ],\n",
       "       [107.  ],\n",
       "       [123.  ],\n",
       "       [ 65.92],\n",
       "       [ 81.29],\n",
       "       [111.  ],\n",
       "       [ 90.73],\n",
       "       [133.  ],\n",
       "       [ 41.9 ],\n",
       "       [ 41.71],\n",
       "       [ 58.16],\n",
       "       [ 88.85],\n",
       "       [155.  ],\n",
       "       [ 70.77],\n",
       "       [ 75.08],\n",
       "       [ 57.05],\n",
       "       [ 99.73],\n",
       "       [ 27.96],\n",
       "       [123.  ],\n",
       "       [ 90.41],\n",
       "       [106.  ],\n",
       "       [144.  ],\n",
       "       [121.  ],\n",
       "       [ 97.13],\n",
       "       [166.  ],\n",
       "       [ 87.99],\n",
       "       [154.  ],\n",
       "       [100.  ],\n",
       "       [123.  ],\n",
       "       [217.  ],\n",
       "       [140.  ],\n",
       "       [109.  ],\n",
       "       [127.  ],\n",
       "       [112.  ],\n",
       "       [192.  ],\n",
       "       [132.  ],\n",
       "       [126.  ],\n",
       "       [153.  ],\n",
       "       [158.  ],\n",
       "       [183.  ],\n",
       "       [184.  ],\n",
       "       [121.  ],\n",
       "       [159.  ],\n",
       "       [245.  ],\n",
       "       [137.  ],\n",
       "       [165.  ],\n",
       "       [152.  ],\n",
       "       [181.  ],\n",
       "       [ 80.95],\n",
       "       [137.  ],\n",
       "       [125.  ],\n",
       "       [241.  ],\n",
       "       [134.  ],\n",
       "       [150.  ],\n",
       "       [198.  ],\n",
       "       [151.  ],\n",
       "       [229.  ],\n",
       "       [253.  ],\n",
       "       [188.  ],\n",
       "       [124.  ],\n",
       "       [ 62.2 ],\n",
       "       [133.  ],\n",
       "       [208.  ],\n",
       "       [208.  ]])"
      ]
     },
     "execution_count": 10,
     "metadata": {},
     "output_type": "execute_result"
    }
   ],
   "source": [
    "Y"
   ]
  },
  {
   "cell_type": "code",
   "execution_count": 11,
   "id": "2988fd60",
   "metadata": {},
   "outputs": [],
   "source": [
    "LR = LinearRegression()\n",
    "\n",
    "model = LR.fit(X, Y)"
   ]
  },
  {
   "cell_type": "code",
   "execution_count": 12,
   "id": "82db9ad6",
   "metadata": {},
   "outputs": [
    {
     "data": {
      "text/plain": [
       "array([[3.45885939]])"
      ]
     },
     "execution_count": 12,
     "metadata": {},
     "output_type": "execute_result"
    }
   ],
   "source": [
    "model.coef_"
   ]
  },
  {
   "cell_type": "code",
   "execution_count": 13,
   "id": "860f2ca4",
   "metadata": {},
   "outputs": [
    {
     "data": {
      "text/plain": [
       "array([-215.98148796])"
      ]
     },
     "execution_count": 13,
     "metadata": {},
     "output_type": "execute_result"
    }
   ],
   "source": [
    "model.intercept_"
   ]
  },
  {
   "cell_type": "code",
   "execution_count": 14,
   "id": "cd760652",
   "metadata": {},
   "outputs": [
    {
     "data": {
      "text/plain": [
       "array([[ 42.56825159],\n",
       "       [ 35.1317039 ],\n",
       "       [ 66.95321031],\n",
       "       [ 74.389758  ],\n",
       "       [ 42.22236565],\n",
       "       [ 32.53755936],\n",
       "       [ 63.84023685],\n",
       "       [ 72.48738533],\n",
       "       [  3.65608343],\n",
       "       [ 37.20701954],\n",
       "       [ 32.71050233],\n",
       "       [ 43.43296644],\n",
       "       [ 36.8611336 ],\n",
       "       [ 57.26840401],\n",
       "       [ 50.35068522],\n",
       "       [ 22.16098118],\n",
       "       [ 46.71888286],\n",
       "       [ 40.49293596],\n",
       "       [ 39.28233517],\n",
       "       [ 46.54593989],\n",
       "       [ 49.83185632],\n",
       "       [ 63.84023685],\n",
       "       [ 60.38137746],\n",
       "       [ 92.54876981],\n",
       "       [ 67.64498219],\n",
       "       [102.23357611],\n",
       "       [ 83.55573539],\n",
       "       [ 62.4566931 ],\n",
       "       [ 81.48041975],\n",
       "       [ 69.37441188],\n",
       "       [ 72.83327127],\n",
       "       [ 88.74402448],\n",
       "       [ 98.08294484],\n",
       "       [ 93.24054169],\n",
       "       [136.82217003],\n",
       "       [110.88072459],\n",
       "       [ 98.77471671],\n",
       "       [140.28102942],\n",
       "       [ 60.7272634 ],\n",
       "       [ 57.26840401],\n",
       "       [ 72.83327127],\n",
       "       [ 46.89182583],\n",
       "       [ 62.4566931 ],\n",
       "       [ 83.20984945],\n",
       "       [ 71.10384158],\n",
       "       [154.46235293],\n",
       "       [110.18895271],\n",
       "       [110.88072459],\n",
       "       [ 59.68960558],\n",
       "       [ 58.30606183],\n",
       "       [ 94.62408544],\n",
       "       [ 73.87092909],\n",
       "       [ 78.71333224],\n",
       "       [ 45.16239614],\n",
       "       [ 55.19308837],\n",
       "       [ 55.88486025],\n",
       "       [ 87.70636666],\n",
       "       [ 82.51807757],\n",
       "       [ 79.75099006],\n",
       "       [ 73.52504315],\n",
       "       [ 52.42600086],\n",
       "       [ 77.67567442],\n",
       "       [ 60.03549152],\n",
       "       [158.6129842 ],\n",
       "       [197.69809533],\n",
       "       [198.73575314],\n",
       "       [117.79844337],\n",
       "       [148.9281779 ],\n",
       "       [147.1987482 ],\n",
       "       [154.11646699],\n",
       "       [154.11646699],\n",
       "       [133.36331063],\n",
       "       [119.52787307],\n",
       "       [129.90445124],\n",
       "       [157.57532638],\n",
       "       [129.90445124],\n",
       "       [140.28102942],\n",
       "       [143.73988881],\n",
       "       [150.65760759],\n",
       "       [161.03418577],\n",
       "       [142.01045911],\n",
       "       [164.49304516],\n",
       "       [164.49304516],\n",
       "       [171.41076395],\n",
       "       [159.30475607],\n",
       "       [143.73988881],\n",
       "       [167.95190455],\n",
       "       [159.30475607],\n",
       "       [202.54049847],\n",
       "       [161.03418577],\n",
       "       [121.25730276],\n",
       "       [148.9281779 ],\n",
       "       [122.98673246],\n",
       "       [110.88072459],\n",
       "       [119.52787307],\n",
       "       [147.1987482 ],\n",
       "       [150.65760759],\n",
       "       [126.44559185],\n",
       "       [ 98.77471671],\n",
       "       [138.55159972],\n",
       "       [150.65760759],\n",
       "       [161.38007171],\n",
       "       [181.78734212],\n",
       "       [133.36331063],\n",
       "       [130.25033718],\n",
       "       [106.73009332],\n",
       "       [136.13039815],\n",
       "       [157.22944044],\n",
       "       [159.30475607]])"
      ]
     },
     "execution_count": 14,
     "metadata": {},
     "output_type": "execute_result"
    }
   ],
   "source": [
    "predictions = model.predict(X)\n",
    "predictions"
   ]
  },
  {
   "cell_type": "code",
   "execution_count": 15,
   "id": "48eab708",
   "metadata": {},
   "outputs": [
    {
     "data": {
      "text/html": [
       "<div>\n",
       "<style scoped>\n",
       "    .dataframe tbody tr th:only-of-type {\n",
       "        vertical-align: middle;\n",
       "    }\n",
       "\n",
       "    .dataframe tbody tr th {\n",
       "        vertical-align: top;\n",
       "    }\n",
       "\n",
       "    .dataframe thead th {\n",
       "        text-align: right;\n",
       "    }\n",
       "</style>\n",
       "<table border=\"1\" class=\"dataframe\">\n",
       "  <thead>\n",
       "    <tr style=\"text-align: right;\">\n",
       "      <th></th>\n",
       "      <th>Waist</th>\n",
       "      <th>AT</th>\n",
       "      <th>Predictions</th>\n",
       "    </tr>\n",
       "  </thead>\n",
       "  <tbody>\n",
       "    <tr>\n",
       "      <th>0</th>\n",
       "      <td>74.75</td>\n",
       "      <td>25.72</td>\n",
       "      <td>42.568252</td>\n",
       "    </tr>\n",
       "    <tr>\n",
       "      <th>1</th>\n",
       "      <td>72.60</td>\n",
       "      <td>25.89</td>\n",
       "      <td>35.131704</td>\n",
       "    </tr>\n",
       "    <tr>\n",
       "      <th>2</th>\n",
       "      <td>81.80</td>\n",
       "      <td>42.60</td>\n",
       "      <td>66.953210</td>\n",
       "    </tr>\n",
       "    <tr>\n",
       "      <th>3</th>\n",
       "      <td>83.95</td>\n",
       "      <td>42.80</td>\n",
       "      <td>74.389758</td>\n",
       "    </tr>\n",
       "    <tr>\n",
       "      <th>4</th>\n",
       "      <td>74.65</td>\n",
       "      <td>29.84</td>\n",
       "      <td>42.222366</td>\n",
       "    </tr>\n",
       "    <tr>\n",
       "      <th>...</th>\n",
       "      <td>...</td>\n",
       "      <td>...</td>\n",
       "      <td>...</td>\n",
       "    </tr>\n",
       "    <tr>\n",
       "      <th>104</th>\n",
       "      <td>100.10</td>\n",
       "      <td>124.00</td>\n",
       "      <td>130.250337</td>\n",
       "    </tr>\n",
       "    <tr>\n",
       "      <th>105</th>\n",
       "      <td>93.30</td>\n",
       "      <td>62.20</td>\n",
       "      <td>106.730093</td>\n",
       "    </tr>\n",
       "    <tr>\n",
       "      <th>106</th>\n",
       "      <td>101.80</td>\n",
       "      <td>133.00</td>\n",
       "      <td>136.130398</td>\n",
       "    </tr>\n",
       "    <tr>\n",
       "      <th>107</th>\n",
       "      <td>107.90</td>\n",
       "      <td>208.00</td>\n",
       "      <td>157.229440</td>\n",
       "    </tr>\n",
       "    <tr>\n",
       "      <th>108</th>\n",
       "      <td>108.50</td>\n",
       "      <td>208.00</td>\n",
       "      <td>159.304756</td>\n",
       "    </tr>\n",
       "  </tbody>\n",
       "</table>\n",
       "<p>109 rows × 3 columns</p>\n",
       "</div>"
      ],
      "text/plain": [
       "      Waist      AT  Predictions\n",
       "0     74.75   25.72    42.568252\n",
       "1     72.60   25.89    35.131704\n",
       "2     81.80   42.60    66.953210\n",
       "3     83.95   42.80    74.389758\n",
       "4     74.65   29.84    42.222366\n",
       "..      ...     ...          ...\n",
       "104  100.10  124.00   130.250337\n",
       "105   93.30   62.20   106.730093\n",
       "106  101.80  133.00   136.130398\n",
       "107  107.90  208.00   157.229440\n",
       "108  108.50  208.00   159.304756\n",
       "\n",
       "[109 rows x 3 columns]"
      ]
     },
     "execution_count": 15,
     "metadata": {},
     "output_type": "execute_result"
    }
   ],
   "source": [
    "pd.DataFrame({'Waist':X.flatten(),\n",
    "              'AT':Y.flatten(),\n",
    "              'Predictions':predictions.flatten()})"
   ]
  },
  {
   "cell_type": "code",
   "execution_count": 34,
   "id": "f59fad1c",
   "metadata": {},
   "outputs": [
    {
     "data": {
      "image/png": "[encoded data removed]",
      "text/plain": [
       "<Figure size 500x300 with 1 Axes>"
      ]
     },
     "metadata": {},
     "output_type": "display_data"
    }
   ],
   "source": [
    "plt.figure(figsize = (5,3), facecolor = 'lightgreen')\n",
    "plt.scatter(data['Waist'], data['AT'])\n",
    "plt.plot(data['Waist'], predictions, color = 'red')\n",
    "plt.xlabel('Waist')\n",
    "plt.ylabel('AT')\n",
    "plt.show()"
   ]
  },
  {
   "cell_type": "markdown",
   "id": "2b2ed54d",
   "metadata": {},
   "source": [
    "### Model Validation"
   ]
  },
  {
   "cell_type": "code",
   "execution_count": 17,
   "id": "55ff2547",
   "metadata": {},
   "outputs": [
    {
     "data": {
      "text/plain": [
       "0.6700368930528429"
      ]
     },
     "execution_count": 17,
     "metadata": {},
     "output_type": "execute_result"
    }
   ],
   "source": [
    "r2_score(data['AT'], predictions)"
   ]
  },
  {
   "cell_type": "code",
   "execution_count": 18,
   "id": "d4a58ece",
   "metadata": {},
   "outputs": [
    {
     "data": {
      "text/plain": [
       "<statsmodels.regression.linear_model.RegressionResultsWrapper at 0x1d2ee513a00>"
      ]
     },
     "execution_count": 18,
     "metadata": {},
     "output_type": "execute_result"
    }
   ],
   "source": [
    "model2 = smf.ols(\"AT ~ Waist\", data = data).fit()\n",
    "model2"
   ]
  },
  {
   "cell_type": "code",
   "execution_count": 19,
   "id": "70383466",
   "metadata": {},
   "outputs": [
    {
     "data": {
      "text/plain": [
       "Intercept   -215.981488\n",
       "Waist          3.458859\n",
       "dtype: float64"
      ]
     },
     "execution_count": 19,
     "metadata": {},
     "output_type": "execute_result"
    }
   ],
   "source": [
    "model2.params"
   ]
  },
  {
   "cell_type": "code",
   "execution_count": 20,
   "id": "cfe8f65c",
   "metadata": {},
   "outputs": [
    {
     "data": {
      "text/html": [
       "<table class=\"simpletable\">\n",
       "<caption>OLS Regression Results</caption>\n",
       "<tr>\n",
       "  <th>Dep. Variable:</th>           <td>AT</td>        <th>  R-squared:         </th> <td>   0.670</td>\n",
       "</tr>\n",
       "<tr>\n",
       "  <th>Model:</th>                   <td>OLS</td>       <th>  Adj. R-squared:    </th> <td>   0.667</td>\n",
       "</tr>\n",
       "<tr>\n",
       "  <th>Method:</th>             <td>Least Squares</td>  <th>  F-statistic:       </th> <td>   217.3</td>\n",
       "</tr>\n",
       "<tr>\n",
       "  <th>Date:</th>             <td>Mon, 02 Jan 2023</td> <th>  Prob (F-statistic):</th> <td>1.62e-27</td>\n",
       "</tr>\n",
       "<tr>\n",
       "  <th>Time:</th>                 <td>13:40:17</td>     <th>  Log-Likelihood:    </th> <td> -534.99</td>\n",
       "</tr>\n",
       "<tr>\n",
       "  <th>No. Observations:</th>      <td>   109</td>      <th>  AIC:               </th> <td>   1074.</td>\n",
       "</tr>\n",
       "<tr>\n",
       "  <th>Df Residuals:</th>          <td>   107</td>      <th>  BIC:               </th> <td>   1079.</td>\n",
       "</tr>\n",
       "<tr>\n",
       "  <th>Df Model:</th>              <td>     1</td>      <th>                     </th>     <td> </td>   \n",
       "</tr>\n",
       "<tr>\n",
       "  <th>Covariance Type:</th>      <td>nonrobust</td>    <th>                     </th>     <td> </td>   \n",
       "</tr>\n",
       "</table>\n",
       "<table class=\"simpletable\">\n",
       "<tr>\n",
       "      <td></td>         <th>coef</th>     <th>std err</th>      <th>t</th>      <th>P>|t|</th>  <th>[0.025</th>    <th>0.975]</th>  \n",
       "</tr>\n",
       "<tr>\n",
       "  <th>Intercept</th> <td> -215.9815</td> <td>   21.796</td> <td>   -9.909</td> <td> 0.000</td> <td> -259.190</td> <td> -172.773</td>\n",
       "</tr>\n",
       "<tr>\n",
       "  <th>Waist</th>     <td>    3.4589</td> <td>    0.235</td> <td>   14.740</td> <td> 0.000</td> <td>    2.994</td> <td>    3.924</td>\n",
       "</tr>\n",
       "</table>\n",
       "<table class=\"simpletable\">\n",
       "<tr>\n",
       "  <th>Omnibus:</th>       <td> 3.960</td> <th>  Durbin-Watson:     </th> <td>   1.560</td>\n",
       "</tr>\n",
       "<tr>\n",
       "  <th>Prob(Omnibus):</th> <td> 0.138</td> <th>  Jarque-Bera (JB):  </th> <td>   4.596</td>\n",
       "</tr>\n",
       "<tr>\n",
       "  <th>Skew:</th>          <td> 0.104</td> <th>  Prob(JB):          </th> <td>   0.100</td>\n",
       "</tr>\n",
       "<tr>\n",
       "  <th>Kurtosis:</th>      <td> 3.984</td> <th>  Cond. No.          </th> <td>    639.</td>\n",
       "</tr>\n",
       "</table><br/><br/>Notes:<br/>[1] Standard Errors assume that the covariance matrix of the errors is correctly specified."
      ],
      "text/plain": [
       "<class 'statsmodels.iolib.summary.Summary'>\n",
       "\"\"\"\n",
       "                            OLS Regression Results                            \n",
       "==============================================================================\n",
       "Dep. Variable:                     AT   R-squared:                       0.670\n",
       "Model:                            OLS   Adj. R-squared:                  0.667\n",
       "Method:                 Least Squares   F-statistic:                     217.3\n",
       "Date:                Mon, 02 Jan 2023   Prob (F-statistic):           1.62e-27\n",
       "Time:                        13:40:17   Log-Likelihood:                -534.99\n",
       "No. Observations:                 109   AIC:                             1074.\n",
       "Df Residuals:                     107   BIC:                             1079.\n",
       "Df Model:                           1                                         \n",
       "Covariance Type:            nonrobust                                         \n",
       "==============================================================================\n",
       "                 coef    std err          t      P>|t|      [0.025      0.975]\n",
       "------------------------------------------------------------------------------\n",
       "Intercept   -215.9815     21.796     -9.909      0.000    -259.190    -172.773\n",
       "Waist          3.4589      0.235     14.740      0.000       2.994       3.924\n",
       "==============================================================================\n",
       "Omnibus:                        3.960   Durbin-Watson:                   1.560\n",
       "Prob(Omnibus):                  0.138   Jarque-Bera (JB):                4.596\n",
       "Skew:                           0.104   Prob(JB):                        0.100\n",
       "Kurtosis:                       3.984   Cond. No.                         639.\n",
       "==============================================================================\n",
       "\n",
       "Notes:\n",
       "[1] Standard Errors assume that the covariance matrix of the errors is correctly specified.\n",
       "\"\"\""
      ]
     },
     "execution_count": 20,
     "metadata": {},
     "output_type": "execute_result"
    }
   ],
   "source": [
    "model2.summary()"
   ]
  },
  {
   "cell_type": "code",
   "execution_count": 22,
   "id": "1b0f11c9",
   "metadata": {},
   "outputs": [
    {
     "data": {
      "text/plain": [
       "<AxesSubplot: xlabel='Waist', ylabel='AT'>"
      ]
     },
     "execution_count": 22,
     "metadata": {},
     "output_type": "execute_result"
    },
    {
     "data": {
      "image/png": "[encoded data removed]",
      "text/plain": [
       "<Figure size 640x480 with 1 Axes>"
      ]
     },
     "metadata": {},
     "output_type": "display_data"
    }
   ],
   "source": [
    "sns.regplot(x = 'Waist', y = 'AT', data = data)"
   ]
  },
  {
   "cell_type": "code",
   "execution_count": 23,
   "id": "40898fd3",
   "metadata": {},
   "outputs": [
    {
     "data": {
      "text/plain": [
       "0       42.568252\n",
       "1       35.131704\n",
       "2       66.953210\n",
       "3       74.389758\n",
       "4       42.222366\n",
       "          ...    \n",
       "104    130.250337\n",
       "105    106.730093\n",
       "106    136.130398\n",
       "107    157.229440\n",
       "108    159.304756\n",
       "Length: 109, dtype: float64"
      ]
     },
     "execution_count": 23,
     "metadata": {},
     "output_type": "execute_result"
    }
   ],
   "source": [
    "model2.predict(data['Waist'])"
   ]
  },
  {
   "cell_type": "code",
   "execution_count": 24,
   "id": "2143ae03",
   "metadata": {},
   "outputs": [
    {
     "data": {
      "text/plain": [
       "<matplotlib.collections.PathCollection at 0x1d2ef560e80>"
      ]
     },
     "execution_count": 24,
     "metadata": {},
     "output_type": "execute_result"
    },
    {
     "data": {
      "image/png": "[encoded data removed]",
      "text/plain": [
       "<Figure size 640x480 with 1 Axes>"
      ]
     },
     "metadata": {},
     "output_type": "display_data"
    }
   ],
   "source": [
    "plt.scatter(np.log(data['Waist']), data['AT'])"
   ]
  },
  {
   "cell_type": "code",
   "execution_count": 25,
   "id": "5d5bd289",
   "metadata": {},
   "outputs": [
    {
     "data": {
      "text/plain": [
       "<statsmodels.regression.linear_model.RegressionResultsWrapper at 0x1d2ef507610>"
      ]
     },
     "execution_count": 25,
     "metadata": {},
     "output_type": "execute_result"
    }
   ],
   "source": [
    "model3 = smf.ols(\"AT ~ np.log(Waist)\", data = data).fit()\n",
    "model3"
   ]
  },
  {
   "cell_type": "code",
   "execution_count": 26,
   "id": "8dfff985",
   "metadata": {},
   "outputs": [
    {
     "data": {
      "text/plain": [
       "Intercept       -1328.341989\n",
       "np.log(Waist)     317.135564\n",
       "dtype: float64"
      ]
     },
     "execution_count": 26,
     "metadata": {},
     "output_type": "execute_result"
    }
   ],
   "source": [
    "model3.params"
   ]
  },
  {
   "cell_type": "code",
   "execution_count": 27,
   "id": "1fa312fa",
   "metadata": {},
   "outputs": [
    {
     "data": {
      "text/html": [
       "<table class=\"simpletable\">\n",
       "<caption>OLS Regression Results</caption>\n",
       "<tr>\n",
       "  <th>Dep. Variable:</th>           <td>AT</td>        <th>  R-squared:         </th> <td>   0.675</td>\n",
       "</tr>\n",
       "<tr>\n",
       "  <th>Model:</th>                   <td>OLS</td>       <th>  Adj. R-squared:    </th> <td>   0.672</td>\n",
       "</tr>\n",
       "<tr>\n",
       "  <th>Method:</th>             <td>Least Squares</td>  <th>  F-statistic:       </th> <td>   222.6</td>\n",
       "</tr>\n",
       "<tr>\n",
       "  <th>Date:</th>             <td>Mon, 02 Jan 2023</td> <th>  Prob (F-statistic):</th> <td>6.80e-28</td>\n",
       "</tr>\n",
       "<tr>\n",
       "  <th>Time:</th>                 <td>13:54:28</td>     <th>  Log-Likelihood:    </th> <td> -534.11</td>\n",
       "</tr>\n",
       "<tr>\n",
       "  <th>No. Observations:</th>      <td>   109</td>      <th>  AIC:               </th> <td>   1072.</td>\n",
       "</tr>\n",
       "<tr>\n",
       "  <th>Df Residuals:</th>          <td>   107</td>      <th>  BIC:               </th> <td>   1078.</td>\n",
       "</tr>\n",
       "<tr>\n",
       "  <th>Df Model:</th>              <td>     1</td>      <th>                     </th>     <td> </td>   \n",
       "</tr>\n",
       "<tr>\n",
       "  <th>Covariance Type:</th>      <td>nonrobust</td>    <th>                     </th>     <td> </td>   \n",
       "</tr>\n",
       "</table>\n",
       "<table class=\"simpletable\">\n",
       "<tr>\n",
       "        <td></td>           <th>coef</th>     <th>std err</th>      <th>t</th>      <th>P>|t|</th>  <th>[0.025</th>    <th>0.975]</th>  \n",
       "</tr>\n",
       "<tr>\n",
       "  <th>Intercept</th>     <td>-1328.3420</td> <td>   95.923</td> <td>  -13.848</td> <td> 0.000</td> <td>-1518.498</td> <td>-1138.186</td>\n",
       "</tr>\n",
       "<tr>\n",
       "  <th>np.log(Waist)</th> <td>  317.1356</td> <td>   21.258</td> <td>   14.918</td> <td> 0.000</td> <td>  274.994</td> <td>  359.277</td>\n",
       "</tr>\n",
       "</table>\n",
       "<table class=\"simpletable\">\n",
       "<tr>\n",
       "  <th>Omnibus:</th>       <td> 3.317</td> <th>  Durbin-Watson:     </th> <td>   1.599</td>\n",
       "</tr>\n",
       "<tr>\n",
       "  <th>Prob(Omnibus):</th> <td> 0.190</td> <th>  Jarque-Bera (JB):  </th> <td>   2.908</td>\n",
       "</tr>\n",
       "<tr>\n",
       "  <th>Skew:</th>          <td> 0.235</td> <th>  Prob(JB):          </th> <td>   0.234</td>\n",
       "</tr>\n",
       "<tr>\n",
       "  <th>Kurtosis:</th>      <td> 3.647</td> <th>  Cond. No.          </th> <td>    145.</td>\n",
       "</tr>\n",
       "</table><br/><br/>Notes:<br/>[1] Standard Errors assume that the covariance matrix of the errors is correctly specified."
      ],
      "text/plain": [
       "<class 'statsmodels.iolib.summary.Summary'>\n",
       "\"\"\"\n",
       "                            OLS Regression Results                            \n",
       "==============================================================================\n",
       "Dep. Variable:                     AT   R-squared:                       0.675\n",
       "Model:                            OLS   Adj. R-squared:                  0.672\n",
       "Method:                 Least Squares   F-statistic:                     222.6\n",
       "Date:                Mon, 02 Jan 2023   Prob (F-statistic):           6.80e-28\n",
       "Time:                        13:54:28   Log-Likelihood:                -534.11\n",
       "No. Observations:                 109   AIC:                             1072.\n",
       "Df Residuals:                     107   BIC:                             1078.\n",
       "Df Model:                           1                                         \n",
       "Covariance Type:            nonrobust                                         \n",
       "=================================================================================\n",
       "                    coef    std err          t      P>|t|      [0.025      0.975]\n",
       "---------------------------------------------------------------------------------\n",
       "Intercept     -1328.3420     95.923    -13.848      0.000   -1518.498   -1138.186\n",
       "np.log(Waist)   317.1356     21.258     14.918      0.000     274.994     359.277\n",
       "==============================================================================\n",
       "Omnibus:                        3.317   Durbin-Watson:                   1.599\n",
       "Prob(Omnibus):                  0.190   Jarque-Bera (JB):                2.908\n",
       "Skew:                           0.235   Prob(JB):                        0.234\n",
       "Kurtosis:                       3.647   Cond. No.                         145.\n",
       "==============================================================================\n",
       "\n",
       "Notes:\n",
       "[1] Standard Errors assume that the covariance matrix of the errors is correctly specified.\n",
       "\"\"\""
      ]
     },
     "execution_count": 27,
     "metadata": {},
     "output_type": "execute_result"
    }
   ],
   "source": [
    "model3.summary()"
   ]
  },
  {
   "cell_type": "code",
   "execution_count": 28,
   "id": "d8d42d50",
   "metadata": {},
   "outputs": [
    {
     "data": {
      "text/plain": [
       "0       39.828156\n",
       "1       30.572779\n",
       "2       68.410960\n",
       "3       76.638769\n",
       "4       39.403610\n",
       "          ...    \n",
       "104    132.438233\n",
       "105    110.127880\n",
       "106    137.778929\n",
       "107    156.234559\n",
       "108    157.993171\n",
       "Length: 109, dtype: float64"
      ]
     },
     "execution_count": 28,
     "metadata": {},
     "output_type": "execute_result"
    }
   ],
   "source": [
    "model3.predict(data['Waist'])"
   ]
  },
  {
   "cell_type": "code",
   "execution_count": 29,
   "id": "73e88cb4",
   "metadata": {},
   "outputs": [
    {
     "data": {
      "text/plain": [
       "<matplotlib.collections.PathCollection at 0x1d2ef5b0df0>"
      ]
     },
     "execution_count": 29,
     "metadata": {},
     "output_type": "execute_result"
    },
    {
     "data": {
      "image/png": "[encoded data removed]",
      "text/plain": [
       "<Figure size 640x480 with 1 Axes>"
      ]
     },
     "metadata": {},
     "output_type": "display_data"
    }
   ],
   "source": [
    "plt.scatter(data['Waist'], np.log(data['AT']))"
   ]
  },
  {
   "cell_type": "code",
   "execution_count": 30,
   "id": "5405b93e",
   "metadata": {},
   "outputs": [
    {
     "data": {
      "text/plain": [
       "<statsmodels.regression.linear_model.RegressionResultsWrapper at 0x1d2ef5dc970>"
      ]
     },
     "execution_count": 30,
     "metadata": {},
     "output_type": "execute_result"
    }
   ],
   "source": [
    "model4 = smf.ols(\"np.log(AT) ~ Waist\", data = data).fit()\n",
    "model4"
   ]
  },
  {
   "cell_type": "code",
   "execution_count": 31,
   "id": "0dcc1914",
   "metadata": {},
   "outputs": [
    {
     "data": {
      "text/plain": [
       "Intercept    0.741021\n",
       "Waist        0.040252\n",
       "dtype: float64"
      ]
     },
     "execution_count": 31,
     "metadata": {},
     "output_type": "execute_result"
    }
   ],
   "source": [
    "model4.params"
   ]
  },
  {
   "cell_type": "code",
   "execution_count": 32,
   "id": "cd60cae4",
   "metadata": {},
   "outputs": [
    {
     "data": {
      "text/html": [
       "<table class=\"simpletable\">\n",
       "<caption>OLS Regression Results</caption>\n",
       "<tr>\n",
       "  <th>Dep. Variable:</th>       <td>np.log(AT)</td>    <th>  R-squared:         </th> <td>   0.707</td>\n",
       "</tr>\n",
       "<tr>\n",
       "  <th>Model:</th>                   <td>OLS</td>       <th>  Adj. R-squared:    </th> <td>   0.704</td>\n",
       "</tr>\n",
       "<tr>\n",
       "  <th>Method:</th>             <td>Least Squares</td>  <th>  F-statistic:       </th> <td>   258.3</td>\n",
       "</tr>\n",
       "<tr>\n",
       "  <th>Date:</th>             <td>Mon, 02 Jan 2023</td> <th>  Prob (F-statistic):</th> <td>2.68e-30</td>\n",
       "</tr>\n",
       "<tr>\n",
       "  <th>Time:</th>                 <td>13:57:43</td>     <th>  Log-Likelihood:    </th> <td> -40.123</td>\n",
       "</tr>\n",
       "<tr>\n",
       "  <th>No. Observations:</th>      <td>   109</td>      <th>  AIC:               </th> <td>   84.25</td>\n",
       "</tr>\n",
       "<tr>\n",
       "  <th>Df Residuals:</th>          <td>   107</td>      <th>  BIC:               </th> <td>   89.63</td>\n",
       "</tr>\n",
       "<tr>\n",
       "  <th>Df Model:</th>              <td>     1</td>      <th>                     </th>     <td> </td>   \n",
       "</tr>\n",
       "<tr>\n",
       "  <th>Covariance Type:</th>      <td>nonrobust</td>    <th>                     </th>     <td> </td>   \n",
       "</tr>\n",
       "</table>\n",
       "<table class=\"simpletable\">\n",
       "<tr>\n",
       "      <td></td>         <th>coef</th>     <th>std err</th>      <th>t</th>      <th>P>|t|</th>  <th>[0.025</th>    <th>0.975]</th>  \n",
       "</tr>\n",
       "<tr>\n",
       "  <th>Intercept</th> <td>    0.7410</td> <td>    0.233</td> <td>    3.185</td> <td> 0.002</td> <td>    0.280</td> <td>    1.202</td>\n",
       "</tr>\n",
       "<tr>\n",
       "  <th>Waist</th>     <td>    0.0403</td> <td>    0.003</td> <td>   16.073</td> <td> 0.000</td> <td>    0.035</td> <td>    0.045</td>\n",
       "</tr>\n",
       "</table>\n",
       "<table class=\"simpletable\">\n",
       "<tr>\n",
       "  <th>Omnibus:</th>       <td> 2.604</td> <th>  Durbin-Watson:     </th> <td>   1.201</td>\n",
       "</tr>\n",
       "<tr>\n",
       "  <th>Prob(Omnibus):</th> <td> 0.272</td> <th>  Jarque-Bera (JB):  </th> <td>   2.117</td>\n",
       "</tr>\n",
       "<tr>\n",
       "  <th>Skew:</th>          <td>-0.329</td> <th>  Prob(JB):          </th> <td>   0.347</td>\n",
       "</tr>\n",
       "<tr>\n",
       "  <th>Kurtosis:</th>      <td> 3.182</td> <th>  Cond. No.          </th> <td>    639.</td>\n",
       "</tr>\n",
       "</table><br/><br/>Notes:<br/>[1] Standard Errors assume that the covariance matrix of the errors is correctly specified."
      ],
      "text/plain": [
       "<class 'statsmodels.iolib.summary.Summary'>\n",
       "\"\"\"\n",
       "                            OLS Regression Results                            \n",
       "==============================================================================\n",
       "Dep. Variable:             np.log(AT)   R-squared:                       0.707\n",
       "Model:                            OLS   Adj. R-squared:                  0.704\n",
       "Method:                 Least Squares   F-statistic:                     258.3\n",
       "Date:                Mon, 02 Jan 2023   Prob (F-statistic):           2.68e-30\n",
       "Time:                        13:57:43   Log-Likelihood:                -40.123\n",
       "No. Observations:                 109   AIC:                             84.25\n",
       "Df Residuals:                     107   BIC:                             89.63\n",
       "Df Model:                           1                                         \n",
       "Covariance Type:            nonrobust                                         \n",
       "==============================================================================\n",
       "                 coef    std err          t      P>|t|      [0.025      0.975]\n",
       "------------------------------------------------------------------------------\n",
       "Intercept      0.7410      0.233      3.185      0.002       0.280       1.202\n",
       "Waist          0.0403      0.003     16.073      0.000       0.035       0.045\n",
       "==============================================================================\n",
       "Omnibus:                        2.604   Durbin-Watson:                   1.201\n",
       "Prob(Omnibus):                  0.272   Jarque-Bera (JB):                2.117\n",
       "Skew:                          -0.329   Prob(JB):                        0.347\n",
       "Kurtosis:                       3.182   Cond. No.                         639.\n",
       "==============================================================================\n",
       "\n",
       "Notes:\n",
       "[1] Standard Errors assume that the covariance matrix of the errors is correctly specified.\n",
       "\"\"\""
      ]
     },
     "execution_count": 32,
     "metadata": {},
     "output_type": "execute_result"
    }
   ],
   "source": [
    "model4.summary()"
   ]
  },
  {
   "cell_type": "code",
   "execution_count": 33,
   "id": "2be4665b",
   "metadata": {},
   "outputs": [
    {
     "data": {
      "text/plain": [
       "0      3.749889\n",
       "1      3.663346\n",
       "2      4.033669\n",
       "3      4.120211\n",
       "4      3.745864\n",
       "         ...   \n",
       "104    4.770288\n",
       "105    4.496571\n",
       "106    4.838717\n",
       "107    5.084257\n",
       "108    5.108408\n",
       "Length: 109, dtype: float64"
      ]
     },
     "execution_count": 33,
     "metadata": {},
     "output_type": "execute_result"
    }
   ],
   "source": [
    "model4.predict(data['Waist'])"
   ]
  },
  {
   "cell_type": "code",
   "execution_count": 35,
   "id": "cf7b4213",
   "metadata": {},
   "outputs": [
    {
     "data": {
      "text/plain": [
       "<statsmodels.regression.linear_model.RegressionResultsWrapper at 0x1d2ef64e6a0>"
      ]
     },
     "execution_count": 35,
     "metadata": {},
     "output_type": "execute_result"
    }
   ],
   "source": [
    "data['Waist_Square'] = data['Waist']**2\n",
    "\n",
    "model5 = smf.ols(\"np.log(AT) ~ Waist + Waist_Square\", data = data).fit()\n",
    "model5"
   ]
  },
  {
   "cell_type": "code",
   "execution_count": 36,
   "id": "48af59ed",
   "metadata": {},
   "outputs": [
    {
     "data": {
      "text/plain": [
       "<matplotlib.collections.PathCollection at 0x1d2ef622c10>"
      ]
     },
     "execution_count": 36,
     "metadata": {},
     "output_type": "execute_result"
    },
    {
     "data": {
      "image/png": "[encoded data removed]",
      "text/plain": [
       "<Figure size 640x480 with 1 Axes>"
      ]
     },
     "metadata": {},
     "output_type": "display_data"
    }
   ],
   "source": [
    "plt.scatter(data['Waist']+data['Waist_Square'], np.log(data['AT']))"
   ]
  },
  {
   "cell_type": "code",
   "execution_count": 37,
   "id": "792c57bb",
   "metadata": {},
   "outputs": [
    {
     "data": {
      "text/plain": [
       "Intercept      -7.824071\n",
       "Waist           0.228864\n",
       "Waist_Square   -0.001016\n",
       "dtype: float64"
      ]
     },
     "execution_count": 37,
     "metadata": {},
     "output_type": "execute_result"
    }
   ],
   "source": [
    "model5.params"
   ]
  },
  {
   "cell_type": "code",
   "execution_count": 38,
   "id": "9e33a347",
   "metadata": {},
   "outputs": [
    {
     "data": {
      "text/html": [
       "<table class=\"simpletable\">\n",
       "<caption>OLS Regression Results</caption>\n",
       "<tr>\n",
       "  <th>Dep. Variable:</th>       <td>np.log(AT)</td>    <th>  R-squared:         </th> <td>   0.779</td>\n",
       "</tr>\n",
       "<tr>\n",
       "  <th>Model:</th>                   <td>OLS</td>       <th>  Adj. R-squared:    </th> <td>   0.775</td>\n",
       "</tr>\n",
       "<tr>\n",
       "  <th>Method:</th>             <td>Least Squares</td>  <th>  F-statistic:       </th> <td>   186.8</td>\n",
       "</tr>\n",
       "<tr>\n",
       "  <th>Date:</th>             <td>Mon, 02 Jan 2023</td> <th>  Prob (F-statistic):</th> <td>1.80e-35</td>\n",
       "</tr>\n",
       "<tr>\n",
       "  <th>Time:</th>                 <td>14:02:29</td>     <th>  Log-Likelihood:    </th> <td> -24.779</td>\n",
       "</tr>\n",
       "<tr>\n",
       "  <th>No. Observations:</th>      <td>   109</td>      <th>  AIC:               </th> <td>   55.56</td>\n",
       "</tr>\n",
       "<tr>\n",
       "  <th>Df Residuals:</th>          <td>   106</td>      <th>  BIC:               </th> <td>   63.63</td>\n",
       "</tr>\n",
       "<tr>\n",
       "  <th>Df Model:</th>              <td>     2</td>      <th>                     </th>     <td> </td>   \n",
       "</tr>\n",
       "<tr>\n",
       "  <th>Covariance Type:</th>      <td>nonrobust</td>    <th>                     </th>     <td> </td>   \n",
       "</tr>\n",
       "</table>\n",
       "<table class=\"simpletable\">\n",
       "<tr>\n",
       "        <td></td>          <th>coef</th>     <th>std err</th>      <th>t</th>      <th>P>|t|</th>  <th>[0.025</th>    <th>0.975]</th>  \n",
       "</tr>\n",
       "<tr>\n",
       "  <th>Intercept</th>    <td>   -7.8241</td> <td>    1.473</td> <td>   -5.312</td> <td> 0.000</td> <td>  -10.744</td> <td>   -4.904</td>\n",
       "</tr>\n",
       "<tr>\n",
       "  <th>Waist</th>        <td>    0.2289</td> <td>    0.032</td> <td>    7.107</td> <td> 0.000</td> <td>    0.165</td> <td>    0.293</td>\n",
       "</tr>\n",
       "<tr>\n",
       "  <th>Waist_Square</th> <td>   -0.0010</td> <td>    0.000</td> <td>   -5.871</td> <td> 0.000</td> <td>   -0.001</td> <td>   -0.001</td>\n",
       "</tr>\n",
       "</table>\n",
       "<table class=\"simpletable\">\n",
       "<tr>\n",
       "  <th>Omnibus:</th>       <td> 0.325</td> <th>  Durbin-Watson:     </th> <td>   1.464</td>\n",
       "</tr>\n",
       "<tr>\n",
       "  <th>Prob(Omnibus):</th> <td> 0.850</td> <th>  Jarque-Bera (JB):  </th> <td>   0.271</td>\n",
       "</tr>\n",
       "<tr>\n",
       "  <th>Skew:</th>          <td> 0.119</td> <th>  Prob(JB):          </th> <td>   0.873</td>\n",
       "</tr>\n",
       "<tr>\n",
       "  <th>Kurtosis:</th>      <td> 2.949</td> <th>  Cond. No.          </th> <td>4.49e+05</td>\n",
       "</tr>\n",
       "</table><br/><br/>Notes:<br/>[1] Standard Errors assume that the covariance matrix of the errors is correctly specified.<br/>[2] The condition number is large, 4.49e+05. This might indicate that there are<br/>strong multicollinearity or other numerical problems."
      ],
      "text/plain": [
       "<class 'statsmodels.iolib.summary.Summary'>\n",
       "\"\"\"\n",
       "                            OLS Regression Results                            \n",
       "==============================================================================\n",
       "Dep. Variable:             np.log(AT)   R-squared:                       0.779\n",
       "Model:                            OLS   Adj. R-squared:                  0.775\n",
       "Method:                 Least Squares   F-statistic:                     186.8\n",
       "Date:                Mon, 02 Jan 2023   Prob (F-statistic):           1.80e-35\n",
       "Time:                        14:02:29   Log-Likelihood:                -24.779\n",
       "No. Observations:                 109   AIC:                             55.56\n",
       "Df Residuals:                     106   BIC:                             63.63\n",
       "Df Model:                           2                                         \n",
       "Covariance Type:            nonrobust                                         \n",
       "================================================================================\n",
       "                   coef    std err          t      P>|t|      [0.025      0.975]\n",
       "--------------------------------------------------------------------------------\n",
       "Intercept       -7.8241      1.473     -5.312      0.000     -10.744      -4.904\n",
       "Waist            0.2289      0.032      7.107      0.000       0.165       0.293\n",
       "Waist_Square    -0.0010      0.000     -5.871      0.000      -0.001      -0.001\n",
       "==============================================================================\n",
       "Omnibus:                        0.325   Durbin-Watson:                   1.464\n",
       "Prob(Omnibus):                  0.850   Jarque-Bera (JB):                0.271\n",
       "Skew:                           0.119   Prob(JB):                        0.873\n",
       "Kurtosis:                       2.949   Cond. No.                     4.49e+05\n",
       "==============================================================================\n",
       "\n",
       "Notes:\n",
       "[1] Standard Errors assume that the covariance matrix of the errors is correctly specified.\n",
       "[2] The condition number is large, 4.49e+05. This might indicate that there are\n",
       "strong multicollinearity or other numerical problems.\n",
       "\"\"\""
      ]
     },
     "execution_count": 38,
     "metadata": {},
     "output_type": "execute_result"
    }
   ],
   "source": [
    "model5.summary()"
   ]
  },
  {
   "cell_type": "code",
   "execution_count": 39,
   "id": "368a8e90",
   "metadata": {},
   "outputs": [
    {
     "data": {
      "text/plain": [
       "0      3.604938\n",
       "1      3.434844\n",
       "2      4.096771\n",
       "3      4.226660\n",
       "4      3.597235\n",
       "         ...   \n",
       "104    4.901980\n",
       "105    4.682251\n",
       "106    4.942227\n",
       "107    5.038287\n",
       "108    5.043650\n",
       "Length: 109, dtype: float64"
      ]
     },
     "execution_count": 39,
     "metadata": {},
     "output_type": "execute_result"
    }
   ],
   "source": [
    "preds = model5.predict(data[['Waist','Waist_Square']])\n",
    "preds"
   ]
  },
  {
   "cell_type": "code",
   "execution_count": 40,
   "id": "c45553e0",
   "metadata": {},
   "outputs": [
    {
     "data": {
      "text/plain": [
       "0       36.779400\n",
       "1       31.026570\n",
       "2       60.145769\n",
       "3       68.488132\n",
       "4       36.497176\n",
       "          ...    \n",
       "104    134.555999\n",
       "105    108.012957\n",
       "106    140.081911\n",
       "107    154.205675\n",
       "108    155.034904\n",
       "Length: 109, dtype: float64"
      ]
     },
     "execution_count": 40,
     "metadata": {},
     "output_type": "execute_result"
    }
   ],
   "source": [
    "preds = np.exp(preds)\n",
    "preds"
   ]
  },
  {
   "cell_type": "code",
   "execution_count": 41,
   "id": "ac260bb7",
   "metadata": {},
   "outputs": [
    {
     "data": {
      "text/html": [
       "<div>\n",
       "<style scoped>\n",
       "    .dataframe tbody tr th:only-of-type {\n",
       "        vertical-align: middle;\n",
       "    }\n",
       "\n",
       "    .dataframe tbody tr th {\n",
       "        vertical-align: top;\n",
       "    }\n",
       "\n",
       "    .dataframe thead th {\n",
       "        text-align: right;\n",
       "    }\n",
       "</style>\n",
       "<table border=\"1\" class=\"dataframe\">\n",
       "  <thead>\n",
       "    <tr style=\"text-align: right;\">\n",
       "      <th></th>\n",
       "      <th>Waist</th>\n",
       "      <th>AT</th>\n",
       "      <th>Predictions 1</th>\n",
       "      <th>Predictions 5</th>\n",
       "    </tr>\n",
       "  </thead>\n",
       "  <tbody>\n",
       "    <tr>\n",
       "      <th>0</th>\n",
       "      <td>74.75</td>\n",
       "      <td>25.72</td>\n",
       "      <td>42.568252</td>\n",
       "      <td>36.779400</td>\n",
       "    </tr>\n",
       "    <tr>\n",
       "      <th>1</th>\n",
       "      <td>72.60</td>\n",
       "      <td>25.89</td>\n",
       "      <td>35.131704</td>\n",
       "      <td>31.026570</td>\n",
       "    </tr>\n",
       "    <tr>\n",
       "      <th>2</th>\n",
       "      <td>81.80</td>\n",
       "      <td>42.60</td>\n",
       "      <td>66.953210</td>\n",
       "      <td>60.145769</td>\n",
       "    </tr>\n",
       "    <tr>\n",
       "      <th>3</th>\n",
       "      <td>83.95</td>\n",
       "      <td>42.80</td>\n",
       "      <td>74.389758</td>\n",
       "      <td>68.488132</td>\n",
       "    </tr>\n",
       "    <tr>\n",
       "      <th>4</th>\n",
       "      <td>74.65</td>\n",
       "      <td>29.84</td>\n",
       "      <td>42.222366</td>\n",
       "      <td>36.497176</td>\n",
       "    </tr>\n",
       "    <tr>\n",
       "      <th>...</th>\n",
       "      <td>...</td>\n",
       "      <td>...</td>\n",
       "      <td>...</td>\n",
       "      <td>...</td>\n",
       "    </tr>\n",
       "    <tr>\n",
       "      <th>104</th>\n",
       "      <td>100.10</td>\n",
       "      <td>124.00</td>\n",
       "      <td>130.250337</td>\n",
       "      <td>134.555999</td>\n",
       "    </tr>\n",
       "    <tr>\n",
       "      <th>105</th>\n",
       "      <td>93.30</td>\n",
       "      <td>62.20</td>\n",
       "      <td>106.730093</td>\n",
       "      <td>108.012957</td>\n",
       "    </tr>\n",
       "    <tr>\n",
       "      <th>106</th>\n",
       "      <td>101.80</td>\n",
       "      <td>133.00</td>\n",
       "      <td>136.130398</td>\n",
       "      <td>140.081911</td>\n",
       "    </tr>\n",
       "    <tr>\n",
       "      <th>107</th>\n",
       "      <td>107.90</td>\n",
       "      <td>208.00</td>\n",
       "      <td>157.229440</td>\n",
       "      <td>154.205675</td>\n",
       "    </tr>\n",
       "    <tr>\n",
       "      <th>108</th>\n",
       "      <td>108.50</td>\n",
       "      <td>208.00</td>\n",
       "      <td>159.304756</td>\n",
       "      <td>155.034904</td>\n",
       "    </tr>\n",
       "  </tbody>\n",
       "</table>\n",
       "<p>109 rows × 4 columns</p>\n",
       "</div>"
      ],
      "text/plain": [
       "      Waist      AT  Predictions 1  Predictions 5\n",
       "0     74.75   25.72      42.568252      36.779400\n",
       "1     72.60   25.89      35.131704      31.026570\n",
       "2     81.80   42.60      66.953210      60.145769\n",
       "3     83.95   42.80      74.389758      68.488132\n",
       "4     74.65   29.84      42.222366      36.497176\n",
       "..      ...     ...            ...            ...\n",
       "104  100.10  124.00     130.250337     134.555999\n",
       "105   93.30   62.20     106.730093     108.012957\n",
       "106  101.80  133.00     136.130398     140.081911\n",
       "107  107.90  208.00     157.229440     154.205675\n",
       "108  108.50  208.00     159.304756     155.034904\n",
       "\n",
       "[109 rows x 4 columns]"
      ]
     },
     "execution_count": 41,
     "metadata": {},
     "output_type": "execute_result"
    }
   ],
   "source": [
    "pd.DataFrame({'Waist':X.flatten(),\n",
    "              'AT':Y.flatten(),\n",
    "              'Predictions 1': predictions.flatten(),\n",
    "              'Predictions 5': preds})"
   ]
  },
  {
   "cell_type": "code",
   "execution_count": 42,
   "id": "439dda2d",
   "metadata": {},
   "outputs": [
    {
     "data": {
      "text/plain": [
       "0     -0.357669\n",
       "1     -0.180987\n",
       "2     -0.344917\n",
       "3     -0.470122\n",
       "4     -0.201385\n",
       "         ...   \n",
       "104   -0.081699\n",
       "105   -0.551896\n",
       "106   -0.051878\n",
       "107    0.299251\n",
       "108    0.293888\n",
       "Length: 109, dtype: float64"
      ]
     },
     "execution_count": 42,
     "metadata": {},
     "output_type": "execute_result"
    }
   ],
   "source": [
    "model5.resid"
   ]
  },
  {
   "cell_type": "code",
   "execution_count": 43,
   "id": "d9ce4d36",
   "metadata": {},
   "outputs": [
    {
     "data": {
      "text/plain": [
       "<statsmodels.regression.linear_model.RegressionResultsWrapper at 0x1d2ef5cde80>"
      ]
     },
     "execution_count": 43,
     "metadata": {},
     "output_type": "execute_result"
    }
   ],
   "source": [
    "data['reciprocal_Waist'] = 1/data['Waist']\n",
    "\n",
    "model6 = smf.ols(\"np.log(AT) ~ reciprocal_Waist\", data = data).fit()\n",
    "model6"
   ]
  },
  {
   "cell_type": "code",
   "execution_count": 44,
   "id": "46d2878c",
   "metadata": {},
   "outputs": [
    {
     "data": {
      "text/plain": [
       "<matplotlib.collections.PathCollection at 0x1d2ef72a670>"
      ]
     },
     "execution_count": 44,
     "metadata": {},
     "output_type": "execute_result"
    },
    {
     "data": {
      "image/png": "[encoded data removed]",
      "text/plain": [
       "<Figure size 640x480 with 1 Axes>"
      ]
     },
     "metadata": {},
     "output_type": "display_data"
    }
   ],
   "source": [
    "plt.scatter(data['reciprocal_Waist'], data['AT'])"
   ]
  },
  {
   "cell_type": "code",
   "execution_count": 45,
   "id": "98cdb80a",
   "metadata": {},
   "outputs": [
    {
     "data": {
      "text/plain": [
       "Intercept             8.227369\n",
       "reciprocal_Waist   -340.535339\n",
       "dtype: float64"
      ]
     },
     "execution_count": 45,
     "metadata": {},
     "output_type": "execute_result"
    }
   ],
   "source": [
    "model6.params"
   ]
  },
  {
   "cell_type": "code",
   "execution_count": 46,
   "id": "418f7605",
   "metadata": {},
   "outputs": [
    {
     "data": {
      "text/html": [
       "<table class=\"simpletable\">\n",
       "<caption>OLS Regression Results</caption>\n",
       "<tr>\n",
       "  <th>Dep. Variable:</th>       <td>np.log(AT)</td>    <th>  R-squared:         </th> <td>   0.755</td>\n",
       "</tr>\n",
       "<tr>\n",
       "  <th>Model:</th>                   <td>OLS</td>       <th>  Adj. R-squared:    </th> <td>   0.753</td>\n",
       "</tr>\n",
       "<tr>\n",
       "  <th>Method:</th>             <td>Least Squares</td>  <th>  F-statistic:       </th> <td>   330.5</td>\n",
       "</tr>\n",
       "<tr>\n",
       "  <th>Date:</th>             <td>Mon, 02 Jan 2023</td> <th>  Prob (F-statistic):</th> <td>1.68e-34</td>\n",
       "</tr>\n",
       "<tr>\n",
       "  <th>Time:</th>                 <td>14:07:57</td>     <th>  Log-Likelihood:    </th> <td> -30.298</td>\n",
       "</tr>\n",
       "<tr>\n",
       "  <th>No. Observations:</th>      <td>   109</td>      <th>  AIC:               </th> <td>   64.60</td>\n",
       "</tr>\n",
       "<tr>\n",
       "  <th>Df Residuals:</th>          <td>   107</td>      <th>  BIC:               </th> <td>   69.98</td>\n",
       "</tr>\n",
       "<tr>\n",
       "  <th>Df Model:</th>              <td>     1</td>      <th>                     </th>     <td> </td>   \n",
       "</tr>\n",
       "<tr>\n",
       "  <th>Covariance Type:</th>      <td>nonrobust</td>    <th>                     </th>     <td> </td>   \n",
       "</tr>\n",
       "</table>\n",
       "<table class=\"simpletable\">\n",
       "<tr>\n",
       "          <td></td>            <th>coef</th>     <th>std err</th>      <th>t</th>      <th>P>|t|</th>  <th>[0.025</th>    <th>0.975]</th>  \n",
       "</tr>\n",
       "<tr>\n",
       "  <th>Intercept</th>        <td>    8.2274</td> <td>    0.211</td> <td>   39.068</td> <td> 0.000</td> <td>    7.810</td> <td>    8.645</td>\n",
       "</tr>\n",
       "<tr>\n",
       "  <th>reciprocal_Waist</th> <td> -340.5353</td> <td>   18.732</td> <td>  -18.180</td> <td> 0.000</td> <td> -377.669</td> <td> -303.402</td>\n",
       "</tr>\n",
       "</table>\n",
       "<table class=\"simpletable\">\n",
       "<tr>\n",
       "  <th>Omnibus:</th>       <td> 0.316</td> <th>  Durbin-Watson:     </th> <td>   1.329</td>\n",
       "</tr>\n",
       "<tr>\n",
       "  <th>Prob(Omnibus):</th> <td> 0.854</td> <th>  Jarque-Bera (JB):  </th> <td>   0.307</td>\n",
       "</tr>\n",
       "<tr>\n",
       "  <th>Skew:</th>          <td>-0.123</td> <th>  Prob(JB):          </th> <td>   0.858</td>\n",
       "</tr>\n",
       "<tr>\n",
       "  <th>Kurtosis:</th>      <td> 2.913</td> <th>  Cond. No.          </th> <td>    607.</td>\n",
       "</tr>\n",
       "</table><br/><br/>Notes:<br/>[1] Standard Errors assume that the covariance matrix of the errors is correctly specified."
      ],
      "text/plain": [
       "<class 'statsmodels.iolib.summary.Summary'>\n",
       "\"\"\"\n",
       "                            OLS Regression Results                            \n",
       "==============================================================================\n",
       "Dep. Variable:             np.log(AT)   R-squared:                       0.755\n",
       "Model:                            OLS   Adj. R-squared:                  0.753\n",
       "Method:                 Least Squares   F-statistic:                     330.5\n",
       "Date:                Mon, 02 Jan 2023   Prob (F-statistic):           1.68e-34\n",
       "Time:                        14:07:57   Log-Likelihood:                -30.298\n",
       "No. Observations:                 109   AIC:                             64.60\n",
       "Df Residuals:                     107   BIC:                             69.98\n",
       "Df Model:                           1                                         \n",
       "Covariance Type:            nonrobust                                         \n",
       "====================================================================================\n",
       "                       coef    std err          t      P>|t|      [0.025      0.975]\n",
       "------------------------------------------------------------------------------------\n",
       "Intercept            8.2274      0.211     39.068      0.000       7.810       8.645\n",
       "reciprocal_Waist  -340.5353     18.732    -18.180      0.000    -377.669    -303.402\n",
       "==============================================================================\n",
       "Omnibus:                        0.316   Durbin-Watson:                   1.329\n",
       "Prob(Omnibus):                  0.854   Jarque-Bera (JB):                0.307\n",
       "Skew:                          -0.123   Prob(JB):                        0.858\n",
       "Kurtosis:                       2.913   Cond. No.                         607.\n",
       "==============================================================================\n",
       "\n",
       "Notes:\n",
       "[1] Standard Errors assume that the covariance matrix of the errors is correctly specified.\n",
       "\"\"\""
      ]
     },
     "execution_count": 46,
     "metadata": {},
     "output_type": "execute_result"
    }
   ],
   "source": [
    "model6.summary()"
   ]
  }
 ],
 "metadata": {
  "kernelspec": {
   "display_name": "Python 3 (ipykernel)",
   "language": "python",
   "name": "python3"
  },
  "language_info": {
   "codemirror_mode": {
    "name": "ipython",
    "version": 3
   },
   "file_extension": ".py",
   "mimetype": "text/x-python",
   "name": "python",
   "nbconvert_exporter": "python",
   "pygments_lexer": "ipython3",
   "version": "3.9.13"
  }
 },
 "nbformat": 4,
 "nbformat_minor": 5
}
